{
 "cells": [
  {
   "cell_type": "markdown",
   "metadata": {},
   "source": [
    "## IDEAS\n",
    "#### 1. Overwrite older shortcuts\n",
    "#### 2. Guide with pictures in telegraph\n",
    "#### 3. Log somehow inline query stuff"
   ]
  },
  {
   "cell_type": "markdown",
   "metadata": {},
   "source": [
    "### when calling /cancel sticker can still be saved"
   ]
  },
  {
   "cell_type": "code",
   "execution_count": 1,
   "metadata": {},
   "outputs": [],
   "source": [
    "import pandas as pd\n",
    "from dotenv import load_dotenv\n",
    "import os"
   ]
  },
  {
   "cell_type": "code",
   "execution_count": 2,
   "metadata": {},
   "outputs": [],
   "source": [
    "from functools import wraps"
   ]
  },
  {
   "cell_type": "code",
   "execution_count": 3,
   "metadata": {},
   "outputs": [],
   "source": [
    "import telegram\n",
    "import logging\n",
    "from telegram.ext import Updater, Filters, MessageHandler, CommandHandler, ConversationHandler, InlineQueryHandler\n",
    "from telegram import ReplyKeyboardMarkup, ReplyKeyboardRemove, InlineQueryResultCachedSticker"
   ]
  },
  {
   "cell_type": "code",
   "execution_count": 4,
   "metadata": {},
   "outputs": [],
   "source": [
    "from uuid import uuid4"
   ]
  },
  {
   "cell_type": "code",
   "execution_count": 5,
   "metadata": {},
   "outputs": [],
   "source": [
    "load_dotenv()\n",
    "TOKEN = os.environ.get(\"TOKEN\")\n",
    "FEEDBACK_BOT_CHAT_ID = os.environ.get('FEEDBACK_BOT_CHAT_ID')"
   ]
  },
  {
   "cell_type": "code",
   "execution_count": 6,
   "metadata": {},
   "outputs": [],
   "source": [
    "logging.basicConfig(filename='logs.log', \n",
    "                    format='%(asctime)s - %(name)s - %(levelname)s - %(message)s',\n",
    "                    level=logging.INFO)\n",
    "logger = logging.getLogger(__name__)"
   ]
  },
  {
   "cell_type": "code",
   "execution_count": 7,
   "metadata": {},
   "outputs": [],
   "source": [
    "STICKER, STICKER_SHORTCUT = range(2)\n",
    "FEEDBACK_MESSAGE = 0"
   ]
  },
  {
   "cell_type": "markdown",
   "metadata": {},
   "source": [
    "### Adding headers to .csv files if not already"
   ]
  },
  {
   "cell_type": "code",
   "execution_count": 8,
   "metadata": {},
   "outputs": [],
   "source": [
    "def add_header_csv(file_path, columns):\n",
    "    with open(file_path, 'a+') as file:\n",
    "        if os.stat(file_path).st_size == 0:\n",
    "            string_to_add = '\\t'.join(columns) + '\\n'\n",
    "            file.write(string_to_add)"
   ]
  },
  {
   "cell_type": "code",
   "execution_count": 9,
   "metadata": {},
   "outputs": [],
   "source": [
    "add_header_csv(\n",
    "    file_path='sticker_preferences.csv', \n",
    "    columns=['update_id', 'message_date', 'chat_id', 'username', 'sticker_file_id', 'sticker_shortcut'])"
   ]
  },
  {
   "cell_type": "code",
   "execution_count": 10,
   "metadata": {},
   "outputs": [],
   "source": [
    "add_header_csv(\n",
    "    file_path='command_calling.csv', \n",
    "    columns=['update_id', 'message_date', 'chat_id', 'username', 'command_name'])"
   ]
  },
  {
   "cell_type": "markdown",
   "metadata": {},
   "source": [
    "### Decorator for logging bot command calls"
   ]
  },
  {
   "cell_type": "code",
   "execution_count": 11,
   "metadata": {},
   "outputs": [],
   "source": [
    "def logging_dec(func):\n",
    "    @wraps(func)\n",
    "    def inner(update, context):\n",
    "        user_data = {}\n",
    "        user_data['update_id'] = update.update_id\n",
    "        user_data['message_date'] = update.message.date\n",
    "        user_data['chat_id'] = update.message.chat.id\n",
    "        user_data['username'] = update.message.chat.username\n",
    "        if func.__name__ == 'helpX': # because there is confusion between python help and bot help\n",
    "            user_data['command_name'] = 'help'\n",
    "        else:\n",
    "            user_data['command_name'] = func.__name__\n",
    "        columns = ['update_id', 'message_date', 'chat_id', 'username', 'command_name']\n",
    "        \n",
    "        add_header_csv(\n",
    "            file_path='command_calling.csv', \n",
    "            columns=['update_id', 'message_date', 'chat_id', 'username', 'command_name'])\n",
    "        \n",
    "        with open('command_calling.csv', 'a+') as file:\n",
    "            string_to_add = '\\t'.join([str(user_data[column]) for column in columns]) + '\\n'\n",
    "            file.write(string_to_add)\n",
    "        return func(update, context)\n",
    "    return inner"
   ]
  },
  {
   "cell_type": "markdown",
   "metadata": {},
   "source": [
    "### Functions for service handlers"
   ]
  },
  {
   "cell_type": "code",
   "execution_count": 12,
   "metadata": {},
   "outputs": [],
   "source": [
    "@logging_dec\n",
    "def start(update, context):\n",
    "    update.message.reply_text('''Hi there!\n",
    "I can help you to quickly access stickers via keaborad.\n",
    "Use /help for instructions.''')\n",
    "\n",
    "@logging_dec\n",
    "def helpX(update, context):\n",
    "    update.message.reply_text(\"\"\"\n",
    "To send stickers type @StickerKeyboardBot in any chat and begin typing name of the sticker you've already saved. \n",
    "If you haven't saved any stickers yet you can always send the smiling_frog from the bot profile photo! \n",
    "By the way you can start typing from the middle of the word, \"fr\", for example, and the bot will still understand.\n",
    "\n",
    "To save stickers use /add_sticker and follow instructions.\n",
    "\n",
    "If you wish to share some feedback feel free to use /feedback\n",
    "\n",
    "Good luck!\"\"\")\n",
    "    \n",
    "def error(update, context):\n",
    "    logger.warning(f'UPDATE {update}\\n CONTEXT {context.error}\\n FROM ERROR {context.from_error}')"
   ]
  },
  {
   "cell_type": "markdown",
   "metadata": {},
   "source": [
    "### Functions for feedback conversation handler"
   ]
  },
  {
   "cell_type": "code",
   "execution_count": 13,
   "metadata": {},
   "outputs": [],
   "source": [
    "@logging_dec\n",
    "def feedback_call(update, context):\n",
    "    update.message.reply_text('Please share your experience!')\n",
    "    \n",
    "    return FEEDBACK_MESSAGE\n",
    "\n",
    "def feedback_message(update, context):\n",
    "    bot.forward_message(\n",
    "        chat_id=FEEDBACK_BOT_CHAT_ID, \n",
    "        from_chat_id=update.effective_chat.id, \n",
    "        message_id=update.message.message_id)    \n",
    "    update.message.reply_text('Thanks!')\n",
    "    return ConversationHandler.END"
   ]
  },
  {
   "cell_type": "markdown",
   "metadata": {},
   "source": [
    "### Functions for sticker conversation handler"
   ]
  },
  {
   "cell_type": "code",
   "execution_count": 14,
   "metadata": {},
   "outputs": [],
   "source": [
    "@logging_dec\n",
    "def add_sticker(update, context):\n",
    "    update.message.reply_text('Send a sticker you wish to save')\n",
    "    context.user_data['update_id'] = update.update_id\n",
    "    context.user_data['message_date'] = update.message.date\n",
    "    context.user_data['chat_id'] = update.message.chat.id\n",
    "    context.user_data['username'] = update.message.chat.username\n",
    "\n",
    "    return STICKER\n",
    "\n",
    "@logging_dec\n",
    "def sticker(update, context):\n",
    "    context.user_data['sticker_file_id'] = update.message.sticker.file_id\n",
    "    update.message.reply_text('Got it! Now send a shortcut for it')\n",
    "    \n",
    "    return STICKER_SHORTCUT\n",
    "\n",
    "@logging_dec\n",
    "def sticker_shortcut(update, context):\n",
    "    context.user_data['sticker_shortcut'] = update.message.text\n",
    "    update.message.reply_text('Sticker saved!')\n",
    "    add_sticker_preference('sticker_preferences.csv', context.user_data)\n",
    "    \n",
    "    context.user_data.clear()\n",
    "    return ConversationHandler.END\n",
    "\n",
    "def add_sticker_preference(file_path, user_data):\n",
    "    columns = ['update_id', 'message_date', 'chat_id', 'username', 'sticker_file_id', 'sticker_shortcut']\n",
    "    with open(file_path, 'a+') as file:\n",
    "        if os.stat(file_path).st_size == 0:\n",
    "            string_to_add = '\\t'.join(columns) + '\\n'\n",
    "            file.write(string_to_add)         \n",
    "        string_to_add = '\\t'.join([str(user_data[column]) for column in columns]) + '\\n'\n",
    "\n",
    "        file.write(string_to_add)\n",
    "\n",
    "@logging_dec\n",
    "def cancel(update, context):\n",
    "    update.message.reply_text('Something cancelled... \\nI hope everything is ok!')\n",
    "    context.user_data.clear()\n",
    "    return ConversationHandler.END"
   ]
  },
  {
   "cell_type": "markdown",
   "metadata": {},
   "source": [
    "### Functions for inline query"
   ]
  },
  {
   "cell_type": "code",
   "execution_count": 15,
   "metadata": {},
   "outputs": [],
   "source": [
    "def sticker_list_by_query(username, query):\n",
    "    df = pd.read_csv('sticker_preferences.csv', sep='\\t')\n",
    "    return list(df[(df['username'].isin([username, '#nonexisting_user'])) & \n",
    "                   (df['sticker_shortcut'].str.contains(query))]['sticker_file_id'].unique())\n",
    "\n",
    "def inline_query(update, context):\n",
    "    username = update.inline_query.from_user.username\n",
    "    query = update.inline_query.query\n",
    "    sticker_list = sticker_list_by_query(username, query)\n",
    "    results = [InlineQueryResultCachedSticker(\n",
    "        id=uuid4(), sticker_file_id=sticker) for sticker in sticker_list]\n",
    "    update.inline_query.answer(results, cache_time=0, is_personal=True)\n",
    "    sticker_list.clear()\n",
    "    results.clear()\n",
    "    "
   ]
  },
  {
   "cell_type": "markdown",
   "metadata": {},
   "source": [
    "### Initializing"
   ]
  },
  {
   "cell_type": "code",
   "execution_count": 16,
   "metadata": {},
   "outputs": [],
   "source": [
    "bot = telegram.Bot(token=TOKEN)\n",
    "updater = Updater(TOKEN, use_context=True)\n",
    "dp = updater.dispatcher"
   ]
  },
  {
   "cell_type": "markdown",
   "metadata": {},
   "source": [
    "### Handlers"
   ]
  },
  {
   "cell_type": "code",
   "execution_count": 17,
   "metadata": {},
   "outputs": [],
   "source": [
    "start_handler = CommandHandler('start', start)\n",
    "dp.add_handler(start_handler)"
   ]
  },
  {
   "cell_type": "code",
   "execution_count": 18,
   "metadata": {},
   "outputs": [],
   "source": [
    "# dp.remove_handler(start_handler)"
   ]
  },
  {
   "cell_type": "code",
   "execution_count": 19,
   "metadata": {},
   "outputs": [],
   "source": [
    "help_handler = CommandHandler('help', helpX)\n",
    "dp.add_handler(help_handler)"
   ]
  },
  {
   "cell_type": "code",
   "execution_count": 20,
   "metadata": {},
   "outputs": [],
   "source": [
    "# dp.remove_handler(help_handler)"
   ]
  },
  {
   "cell_type": "code",
   "execution_count": 21,
   "metadata": {},
   "outputs": [],
   "source": [
    "dp.add_error_handler(error)"
   ]
  },
  {
   "cell_type": "code",
   "execution_count": 22,
   "metadata": {},
   "outputs": [],
   "source": [
    "# dp.remove_error_handler(error)"
   ]
  },
  {
   "cell_type": "code",
   "execution_count": 23,
   "metadata": {},
   "outputs": [],
   "source": [
    "conv_sticker_handler = ConversationHandler(\n",
    "        entry_points=[CommandHandler('add_sticker', add_sticker)],\n",
    "\n",
    "        states={\n",
    "            STICKER: [MessageHandler(Filters.sticker, sticker)],\n",
    "        STICKER_SHORTCUT: [MessageHandler(Filters.text, sticker_shortcut)]},\n",
    "    fallbacks=[CommandHandler('cancel', cancel)]\n",
    ")\n",
    "dp.add_handler(conv_sticker_handler)"
   ]
  },
  {
   "cell_type": "code",
   "execution_count": 24,
   "metadata": {},
   "outputs": [],
   "source": [
    "# dp.remove_handler(conv_sticker_handler)"
   ]
  },
  {
   "cell_type": "code",
   "execution_count": 25,
   "metadata": {},
   "outputs": [],
   "source": [
    "conv_feedback_handler = ConversationHandler(\n",
    "    entry_points=[CommandHandler('feedback', feedback_call)], \n",
    "    states={FEEDBACK_MESSAGE: [MessageHandler(filters=None, callback=feedback_message)]}, \n",
    "    fallbacks=[CommandHandler('cancel', cancel)])\n",
    "dp.add_handler(conv_feedback_handler)"
   ]
  },
  {
   "cell_type": "code",
   "execution_count": 26,
   "metadata": {},
   "outputs": [],
   "source": [
    "# dp.remove_handler(conv_feedback_handler)"
   ]
  },
  {
   "cell_type": "code",
   "execution_count": 27,
   "metadata": {},
   "outputs": [],
   "source": [
    "inline_query_handler = InlineQueryHandler(inline_query)\n",
    "dp.add_handler(inline_query_handler)"
   ]
  },
  {
   "cell_type": "code",
   "execution_count": 28,
   "metadata": {},
   "outputs": [],
   "source": [
    "# dp.remove_handler(inline_query_handler)"
   ]
  },
  {
   "cell_type": "markdown",
   "metadata": {},
   "source": [
    "### Starting the bot"
   ]
  },
  {
   "cell_type": "code",
   "execution_count": 29,
   "metadata": {
    "scrolled": true
   },
   "outputs": [
    {
     "data": {
      "text/plain": [
       "<queue.Queue at 0x7fa1bc3bef60>"
      ]
     },
     "execution_count": 29,
     "metadata": {},
     "output_type": "execute_result"
    }
   ],
   "source": [
    "updater.start_polling()"
   ]
  },
  {
   "cell_type": "markdown",
   "metadata": {},
   "source": [
    "### Sandbox"
   ]
  },
  {
   "cell_type": "code",
   "execution_count": 30,
   "metadata": {},
   "outputs": [],
   "source": [
    "# with open('sticker_preferences.csv', 'a+') as file:\n",
    "#     string_to_add = '\\t'.join([\n",
    "#         str(0), '1960-01-01 00:00:00', str(0), '#nonexisting_user2', \n",
    "#         'CAACAgIAAxkBAANAXqv52JSrszp6aKaaSciqpbcfRfYAAv4TAAKezgsAARuSPfSbfsZaGQQ', \n",
    "#         'cat_waiting']) + '\\n'\n",
    "#     file.write(string_to_add)"
   ]
  }
 ],
 "metadata": {
  "kernelspec": {
   "display_name": "Python 3",
   "language": "python",
   "name": "python3"
  },
  "language_info": {
   "codemirror_mode": {
    "name": "ipython",
    "version": 3
   },
   "file_extension": ".py",
   "mimetype": "text/x-python",
   "name": "python",
   "nbconvert_exporter": "python",
   "pygments_lexer": "ipython3",
   "version": "3.6.9"
  }
 },
 "nbformat": 4,
 "nbformat_minor": 4
}
